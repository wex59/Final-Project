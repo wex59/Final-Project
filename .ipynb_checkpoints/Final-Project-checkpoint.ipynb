{
 "cells": [
  {
   "cell_type": "markdown",
   "metadata": {},
   "source": [
    "## Final Project: The best neighborhood in Pittsburgh"
   ]
  },
  {
   "cell_type": "markdown",
   "metadata": {},
   "source": [
    "Group name: WEJ\n",
    "\n",
    "Group members: Weini Xie He, Ethan Guan, Jingtao Zhao "
   ]
  },
  {
   "cell_type": "markdown",
   "metadata": {},
   "source": [
    "## Introduction"
   ]
  },
  {
   "cell_type": "markdown",
   "metadata": {},
   "source": [
    "We believe that the best neighborhood should be the most stable neighborhood, where people can get their basic needs met, feel safe in their surroundings, and have the less traffic. So, we looked at the data that shows the percentage of people with salaries, the crime data, and the traffic data in the neighborhood."
   ]
  },
  {
   "cell_type": "markdown",
   "metadata": {},
   "source": [
    "## The Metric:"
   ]
  },
  {
   "cell_type": "markdown",
   "metadata": {},
   "source": [
    "## Crime Data"
   ]
  },
  {
   "cell_type": "markdown",
   "metadata": {},
   "source": [
    "The crime data can reflect how safe you neighborhood is. The data I use is just simply the incidentneighborhood. The incidentneighborhood can reflect safty the most."
   ]
  },
  {
   "cell_type": "markdown",
   "metadata": {},
   "source": [
    "I use the PittsburghPoliceArrestData.\n",
    "first I import the data using panda.\n",
    "then I try to use the dictionary to count how many times do people being arrsted at that place.\n",
    "then I turn the data into dataset."
   ]
  },
  {
   "cell_type": "code",
   "execution_count": 1,
   "metadata": {},
   "outputs": [],
   "source": [
    "import pandas as pd\n",
    "police = pd.read_csv(\"PittsburghPoliceArrestData.csv\", usecols = ['INCIDENTNEIGHBORHOOD'])\n",
    "police_dict = {}\n",
    "i = 0\n",
    "while i < 58322:\n",
    "    item = police.loc[i,'INCIDENTNEIGHBORHOOD']\n",
    "    if item in police_dict:\n",
    "        police_dict[item]+=1\n",
    "    else:\n",
    "        police_dict[item]=1\n",
    "    i += 1\n",
    "final = pd.Series(police_dict, name = \"place\")"
   ]
  },
  {
   "cell_type": "markdown",
   "metadata": {},
   "source": [
    "Then I sort the value and print it."
   ]
  },
  {
   "cell_type": "code",
   "execution_count": 185,
   "metadata": {},
   "outputs": [
    {
     "data": {
      "text/plain": [
       "Mt. Oliver Neighborhood          2\n",
       "Troy Hill-Herrs Island           6\n",
       "Mt. Oliver Boro                 18\n",
       "Central Northside               23\n",
       "Ridgemont                       32\n",
       "Regent Square                   32\n",
       "Chartiers City                  38\n",
       "Swisshelm Park                  38\n",
       "New Homestead                   38\n",
       "St. Clair                       45\n",
       "East Carnegie                   47\n",
       "Outside County                  49\n",
       "Outside State                   57\n",
       "Summer Hill                     63\n",
       "Oakwood                         78\n",
       "Golden Triangle/Civic Arena     83\n",
       "Hays                            98\n",
       "Windgap                        103\n",
       "Fairywood                      108\n",
       "Mount Oliver                   111\n",
       "Name: place, dtype: int64"
      ]
     },
     "execution_count": 185,
     "metadata": {},
     "output_type": "execute_result"
    }
   ],
   "source": [
    "final = final.sort_values()[:]\n",
    "final.head(20)"
   ]
  },
  {
   "cell_type": "markdown",
   "metadata": {},
   "source": [
    "## Visualization"
   ]
  },
  {
   "cell_type": "code",
   "execution_count": 4,
   "metadata": {},
   "outputs": [
    {
     "data": {
      "text/plain": [
       "<matplotlib.axes._subplots.AxesSubplot at 0x7fa4a442d1c0>"
      ]
     },
     "execution_count": 4,
     "metadata": {},
     "output_type": "execute_result"
    },
    {
     "data": {
      "image/png": "[encoded data removed]",
      "text/plain": [
       "<Figure size 432x288 with 1 Axes>"
      ]
     },
     "metadata": {
      "needs_background": "light"
     },
     "output_type": "display_data"
    }
   ],
   "source": [
    "final.sort_values(ascending=True)[:10].plot.bar()"
   ]
  },
  {
   "cell_type": "markdown",
   "metadata": {},
   "source": [
    "## Salaries data"
   ]
  },
  {
   "cell_type": "markdown",
   "metadata": {},
   "source": [
    "I decided to look at the percent of people that have wages or salaries as one of the factors to determine the most stable neighborhood. This is an important factor because in order to be stable, people in the neighborhood should be able to obtain their basic needs for living, and a salary is money that people can use to buy their needs. "
   ]
  },
  {
   "cell_type": "code",
   "execution_count": 5,
   "metadata": {},
   "outputs": [
    {
     "data": {
      "text/html": [
       "<div>\n",
       "<style scoped>\n",
       "    .dataframe tbody tr th:only-of-type {\n",
       "        vertical-align: middle;\n",
       "    }\n",
       "\n",
       "    .dataframe tbody tr th {\n",
       "        vertical-align: top;\n",
       "    }\n",
       "\n",
       "    .dataframe thead th {\n",
       "        text-align: right;\n",
       "    }\n",
       "</style>\n",
       "<table border=\"1\" class=\"dataframe\">\n",
       "  <thead>\n",
       "    <tr style=\"text-align: right;\">\n",
       "      <th></th>\n",
       "      <th>Neighborhood</th>\n",
       "      <th>Id</th>\n",
       "      <th>Estimate; Total:</th>\n",
       "      <th>Margin of Error; Total:</th>\n",
       "      <th>Estimate; Total: - With wage or salary income</th>\n",
       "      <th>Margin of Error; Total: - With wage or salary income</th>\n",
       "      <th>Estimate; Total: - No wage or salary income</th>\n",
       "      <th>Margin of Error; Total: - No wage or salary income</th>\n",
       "    </tr>\n",
       "  </thead>\n",
       "  <tbody>\n",
       "    <tr>\n",
       "      <th>0</th>\n",
       "      <td>Allegheny Center</td>\n",
       "      <td>1</td>\n",
       "      <td>870.0</td>\n",
       "      <td>93.000000</td>\n",
       "      <td>635.0</td>\n",
       "      <td>91.000000</td>\n",
       "      <td>235.0</td>\n",
       "      <td>59.000000</td>\n",
       "    </tr>\n",
       "    <tr>\n",
       "      <th>1</th>\n",
       "      <td>Allegheny West</td>\n",
       "      <td>2</td>\n",
       "      <td>146.0</td>\n",
       "      <td>36.000000</td>\n",
       "      <td>119.0</td>\n",
       "      <td>35.000000</td>\n",
       "      <td>27.0</td>\n",
       "      <td>20.000000</td>\n",
       "    </tr>\n",
       "    <tr>\n",
       "      <th>2</th>\n",
       "      <td>Allentown</td>\n",
       "      <td>3</td>\n",
       "      <td>1069.0</td>\n",
       "      <td>132.457540</td>\n",
       "      <td>736.0</td>\n",
       "      <td>140.335313</td>\n",
       "      <td>333.0</td>\n",
       "      <td>97.493590</td>\n",
       "    </tr>\n",
       "    <tr>\n",
       "      <th>3</th>\n",
       "      <td>Arlington</td>\n",
       "      <td>4</td>\n",
       "      <td>701.0</td>\n",
       "      <td>104.465305</td>\n",
       "      <td>570.0</td>\n",
       "      <td>106.273233</td>\n",
       "      <td>131.0</td>\n",
       "      <td>45.199558</td>\n",
       "    </tr>\n",
       "    <tr>\n",
       "      <th>4</th>\n",
       "      <td>Arlington Heights</td>\n",
       "      <td>5</td>\n",
       "      <td>144.0</td>\n",
       "      <td>59.000000</td>\n",
       "      <td>99.0</td>\n",
       "      <td>60.000000</td>\n",
       "      <td>45.0</td>\n",
       "      <td>30.000000</td>\n",
       "    </tr>\n",
       "  </tbody>\n",
       "</table>\n",
       "</div>"
      ],
      "text/plain": [
       "        Neighborhood  Id  Estimate; Total:  Margin of Error; Total:  \\\n",
       "0   Allegheny Center   1             870.0                93.000000   \n",
       "1     Allegheny West   2             146.0                36.000000   \n",
       "2          Allentown   3            1069.0               132.457540   \n",
       "3          Arlington   4             701.0               104.465305   \n",
       "4  Arlington Heights   5             144.0                59.000000   \n",
       "\n",
       "   Estimate; Total: - With wage or salary income  \\\n",
       "0                                          635.0   \n",
       "1                                          119.0   \n",
       "2                                          736.0   \n",
       "3                                          570.0   \n",
       "4                                           99.0   \n",
       "\n",
       "   Margin of Error; Total: - With wage or salary income  \\\n",
       "0                                          91.000000      \n",
       "1                                          35.000000      \n",
       "2                                         140.335313      \n",
       "3                                         106.273233      \n",
       "4                                          60.000000      \n",
       "\n",
       "   Estimate; Total: - No wage or salary income  \\\n",
       "0                                        235.0   \n",
       "1                                         27.0   \n",
       "2                                        333.0   \n",
       "3                                        131.0   \n",
       "4                                         45.0   \n",
       "\n",
       "   Margin of Error; Total: - No wage or salary income  \n",
       "0                                          59.000000   \n",
       "1                                          20.000000   \n",
       "2                                          97.493590   \n",
       "3                                          45.199558   \n",
       "4                                          30.000000   "
      ]
     },
     "execution_count": 5,
     "metadata": {},
     "output_type": "execute_result"
    }
   ],
   "source": [
    "#import panda\n",
    "import pandas as pd\n",
    "import numpy as np\n",
    "%matplotlib inline\n",
    "\n",
    "#open the salary data file\n",
    "salary = pd.read_csv(\"salary.csv\")\n",
    "salary.head(5)"
   ]
  },
  {
   "cell_type": "code",
   "execution_count": 6,
   "metadata": {},
   "outputs": [
    {
     "data": {
      "text/html": [
       "<div>\n",
       "<style scoped>\n",
       "    .dataframe tbody tr th:only-of-type {\n",
       "        vertical-align: middle;\n",
       "    }\n",
       "\n",
       "    .dataframe tbody tr th {\n",
       "        vertical-align: top;\n",
       "    }\n",
       "\n",
       "    .dataframe thead th {\n",
       "        text-align: right;\n",
       "    }\n",
       "</style>\n",
       "<table border=\"1\" class=\"dataframe\">\n",
       "  <thead>\n",
       "    <tr style=\"text-align: right;\">\n",
       "      <th></th>\n",
       "      <th>Neighborhood</th>\n",
       "      <th>Id</th>\n",
       "      <th>Estimate; Total:</th>\n",
       "    </tr>\n",
       "  </thead>\n",
       "  <tbody>\n",
       "    <tr>\n",
       "      <th>68</th>\n",
       "      <td>Shadyside</td>\n",
       "      <td>69</td>\n",
       "      <td>7484.0</td>\n",
       "    </tr>\n",
       "    <tr>\n",
       "      <th>77</th>\n",
       "      <td>Squirrel Hill South</td>\n",
       "      <td>78</td>\n",
       "      <td>7211.0</td>\n",
       "    </tr>\n",
       "    <tr>\n",
       "      <th>13</th>\n",
       "      <td>Brookline</td>\n",
       "      <td>14</td>\n",
       "      <td>5843.0</td>\n",
       "    </tr>\n",
       "    <tr>\n",
       "      <th>9</th>\n",
       "      <td>Bloomfield</td>\n",
       "      <td>10</td>\n",
       "      <td>4571.0</td>\n",
       "    </tr>\n",
       "    <tr>\n",
       "      <th>53</th>\n",
       "      <td>Mount Washington</td>\n",
       "      <td>54</td>\n",
       "      <td>4385.0</td>\n",
       "    </tr>\n",
       "    <tr>\n",
       "      <th>15</th>\n",
       "      <td>Carrick</td>\n",
       "      <td>16</td>\n",
       "      <td>4301.0</td>\n",
       "    </tr>\n",
       "    <tr>\n",
       "      <th>7</th>\n",
       "      <td>Beechview</td>\n",
       "      <td>8</td>\n",
       "      <td>3567.0</td>\n",
       "    </tr>\n",
       "    <tr>\n",
       "      <th>36</th>\n",
       "      <td>Greenfield</td>\n",
       "      <td>37</td>\n",
       "      <td>3438.0</td>\n",
       "    </tr>\n",
       "    <tr>\n",
       "      <th>76</th>\n",
       "      <td>Squirrel Hill North</td>\n",
       "      <td>77</td>\n",
       "      <td>3370.0</td>\n",
       "    </tr>\n",
       "    <tr>\n",
       "      <th>72</th>\n",
       "      <td>South Side Flats</td>\n",
       "      <td>73</td>\n",
       "      <td>3311.0</td>\n",
       "    </tr>\n",
       "  </tbody>\n",
       "</table>\n",
       "</div>"
      ],
      "text/plain": [
       "           Neighborhood  Id  Estimate; Total:\n",
       "68            Shadyside  69            7484.0\n",
       "77  Squirrel Hill South  78            7211.0\n",
       "13            Brookline  14            5843.0\n",
       "9            Bloomfield  10            4571.0\n",
       "53     Mount Washington  54            4385.0\n",
       "15              Carrick  16            4301.0\n",
       "7             Beechview   8            3567.0\n",
       "36           Greenfield  37            3438.0\n",
       "76  Squirrel Hill North  77            3370.0\n",
       "72     South Side Flats  73            3311.0"
      ]
     },
     "execution_count": 6,
     "metadata": {},
     "output_type": "execute_result"
    }
   ],
   "source": [
    "#shows only the neighborhood name and the total number of people\n",
    "salary = salary.iloc[0:, 0:3]\n",
    "#show the neighborhood with the larget number of people with salary\n",
    "salary.nlargest(10, 'Estimate; Total:',keep='first')"
   ]
  },
  {
   "cell_type": "markdown",
   "metadata": {},
   "source": [
    "## Visualization"
   ]
  },
  {
   "cell_type": "code",
   "execution_count": 7,
   "metadata": {},
   "outputs": [
    {
     "data": {
      "text/plain": [
       "<matplotlib.axes._subplots.AxesSubplot at 0x7fa4a3780460>"
      ]
     },
     "execution_count": 7,
     "metadata": {},
     "output_type": "execute_result"
    },
    {
     "data": {
      "image/png": "[encoded data removed]",
      "text/plain": [
       "<Figure size 720x720 with 1 Axes>"
      ]
     },
     "metadata": {
      "needs_background": "light"
     },
     "output_type": "display_data"
    }
   ],
   "source": [
    "# show only the top 10 neighborhood\n",
    "salary1 = salary.nlargest(10, 'Estimate; Total:',keep='first')\n",
    "# make the index to neighborhood names\n",
    "salary1 = salary1.set_index('Neighborhood')\n",
    "# create a bar visualization\n",
    "salary1['Estimate; Total:'].plot(kind=\"bar\", title=(\"Numbers of people with salary\"), figsize=(10,10))"
   ]
  },
  {
   "cell_type": "markdown",
   "metadata": {},
   "source": [
    "But since the total population of each neighborhood is different, we should look at the percentage of people with salaries in the neighborhood for a more accurate list."
   ]
  },
  {
   "cell_type": "code",
   "execution_count": 8,
   "metadata": {},
   "outputs": [
    {
     "data": {
      "text/html": [
       "<div>\n",
       "<style scoped>\n",
       "    .dataframe tbody tr th:only-of-type {\n",
       "        vertical-align: middle;\n",
       "    }\n",
       "\n",
       "    .dataframe tbody tr th {\n",
       "        vertical-align: top;\n",
       "    }\n",
       "\n",
       "    .dataframe thead th {\n",
       "        text-align: right;\n",
       "    }\n",
       "</style>\n",
       "<table border=\"1\" class=\"dataframe\">\n",
       "  <thead>\n",
       "    <tr style=\"text-align: right;\">\n",
       "      <th></th>\n",
       "      <th>Neighborhood</th>\n",
       "      <th>Id</th>\n",
       "      <th>Estimate; Total</th>\n",
       "      <th>Margin of Error; Total</th>\n",
       "    </tr>\n",
       "  </thead>\n",
       "  <tbody>\n",
       "    <tr>\n",
       "      <th>0</th>\n",
       "      <td>Allegheny Center</td>\n",
       "      <td>1</td>\n",
       "      <td>1411.0</td>\n",
       "      <td>196.000000</td>\n",
       "    </tr>\n",
       "    <tr>\n",
       "      <th>1</th>\n",
       "      <td>Allegheny West</td>\n",
       "      <td>2</td>\n",
       "      <td>343.0</td>\n",
       "      <td>96.000000</td>\n",
       "    </tr>\n",
       "    <tr>\n",
       "      <th>2</th>\n",
       "      <td>Allentown</td>\n",
       "      <td>3</td>\n",
       "      <td>2558.0</td>\n",
       "      <td>449.773276</td>\n",
       "    </tr>\n",
       "    <tr>\n",
       "      <th>3</th>\n",
       "      <td>Arlington</td>\n",
       "      <td>4</td>\n",
       "      <td>1852.0</td>\n",
       "      <td>348.188168</td>\n",
       "    </tr>\n",
       "    <tr>\n",
       "      <th>4</th>\n",
       "      <td>Arlington Heights</td>\n",
       "      <td>5</td>\n",
       "      <td>272.0</td>\n",
       "      <td>126.000000</td>\n",
       "    </tr>\n",
       "  </tbody>\n",
       "</table>\n",
       "</div>"
      ],
      "text/plain": [
       "        Neighborhood  Id  Estimate; Total  Margin of Error; Total\n",
       "0   Allegheny Center   1           1411.0              196.000000\n",
       "1     Allegheny West   2            343.0               96.000000\n",
       "2          Allentown   3           2558.0              449.773276\n",
       "3          Arlington   4           1852.0              348.188168\n",
       "4  Arlington Heights   5            272.0              126.000000"
      ]
     },
     "execution_count": 8,
     "metadata": {},
     "output_type": "execute_result"
    }
   ],
   "source": [
    "#open the total-population data file\n",
    "population = pd.read_csv(\"total-population.csv\")\n",
    "#show the first 10 datas\n",
    "population.head(5)"
   ]
  },
  {
   "cell_type": "code",
   "execution_count": 9,
   "metadata": {},
   "outputs": [
    {
     "data": {
      "text/html": [
       "<div>\n",
       "<style scoped>\n",
       "    .dataframe tbody tr th:only-of-type {\n",
       "        vertical-align: middle;\n",
       "    }\n",
       "\n",
       "    .dataframe tbody tr th {\n",
       "        vertical-align: top;\n",
       "    }\n",
       "\n",
       "    .dataframe thead th {\n",
       "        text-align: right;\n",
       "    }\n",
       "</style>\n",
       "<table border=\"1\" class=\"dataframe\">\n",
       "  <thead>\n",
       "    <tr style=\"text-align: right;\">\n",
       "      <th></th>\n",
       "      <th>Neighborhood</th>\n",
       "      <th>Id</th>\n",
       "      <th>Estimate; Total</th>\n",
       "    </tr>\n",
       "  </thead>\n",
       "  <tbody>\n",
       "    <tr>\n",
       "      <th>77</th>\n",
       "      <td>Squirrel Hill South</td>\n",
       "      <td>78</td>\n",
       "      <td>16042.0</td>\n",
       "    </tr>\n",
       "    <tr>\n",
       "      <th>68</th>\n",
       "      <td>Shadyside</td>\n",
       "      <td>69</td>\n",
       "      <td>13562.0</td>\n",
       "    </tr>\n",
       "    <tr>\n",
       "      <th>13</th>\n",
       "      <td>Brookline</td>\n",
       "      <td>14</td>\n",
       "      <td>13160.0</td>\n",
       "    </tr>\n",
       "    <tr>\n",
       "      <th>76</th>\n",
       "      <td>Squirrel Hill North</td>\n",
       "      <td>77</td>\n",
       "      <td>11336.0</td>\n",
       "    </tr>\n",
       "    <tr>\n",
       "      <th>15</th>\n",
       "      <td>Carrick</td>\n",
       "      <td>16</td>\n",
       "      <td>10122.0</td>\n",
       "    </tr>\n",
       "    <tr>\n",
       "      <th>56</th>\n",
       "      <td>North Oakland</td>\n",
       "      <td>57</td>\n",
       "      <td>9602.0</td>\n",
       "    </tr>\n",
       "    <tr>\n",
       "      <th>53</th>\n",
       "      <td>Mount Washington</td>\n",
       "      <td>54</td>\n",
       "      <td>8743.0</td>\n",
       "    </tr>\n",
       "    <tr>\n",
       "      <th>9</th>\n",
       "      <td>Bloomfield</td>\n",
       "      <td>10</td>\n",
       "      <td>8669.0</td>\n",
       "    </tr>\n",
       "    <tr>\n",
       "      <th>7</th>\n",
       "      <td>Beechview</td>\n",
       "      <td>8</td>\n",
       "      <td>8078.0</td>\n",
       "    </tr>\n",
       "    <tr>\n",
       "      <th>36</th>\n",
       "      <td>Greenfield</td>\n",
       "      <td>37</td>\n",
       "      <td>7690.0</td>\n",
       "    </tr>\n",
       "  </tbody>\n",
       "</table>\n",
       "</div>"
      ],
      "text/plain": [
       "           Neighborhood  Id  Estimate; Total\n",
       "77  Squirrel Hill South  78          16042.0\n",
       "68            Shadyside  69          13562.0\n",
       "13            Brookline  14          13160.0\n",
       "76  Squirrel Hill North  77          11336.0\n",
       "15              Carrick  16          10122.0\n",
       "56        North Oakland  57           9602.0\n",
       "53     Mount Washington  54           8743.0\n",
       "9            Bloomfield  10           8669.0\n",
       "7             Beechview   8           8078.0\n",
       "36           Greenfield  37           7690.0"
      ]
     },
     "execution_count": 9,
     "metadata": {},
     "output_type": "execute_result"
    }
   ],
   "source": [
    "#shows only the neighborhood name and the total number of people\n",
    "population = population.iloc[0:, 0:3]\n",
    "#show the neighborhood with largest population\n",
    "population.nlargest(10, 'Estimate; Total',keep='first')"
   ]
  },
  {
   "cell_type": "markdown",
   "metadata": {},
   "source": [
    "## Visualization"
   ]
  },
  {
   "cell_type": "code",
   "execution_count": 10,
   "metadata": {},
   "outputs": [
    {
     "data": {
      "text/plain": [
       "<matplotlib.axes._subplots.AxesSubplot at 0x7fa4a34cc7c0>"
      ]
     },
     "execution_count": 10,
     "metadata": {},
     "output_type": "execute_result"
    },
    {
     "data": {
      "image/png": "[encoded data removed]",
      "text/plain": [
       "<Figure size 720x720 with 1 Axes>"
      ]
     },
     "metadata": {
      "needs_background": "light"
     },
     "output_type": "display_data"
    }
   ],
   "source": [
    "#shows only the top 10 neighborhood\n",
    "population1 = population.nlargest(10, 'Estimate; Total',keep='first')\n",
    "# make the index to neighborhood names\n",
    "population1 = population1.set_index('Neighborhood')\n",
    "# create a bar visualization\n",
    "population1['Estimate; Total'].plot(kind=\"bar\", title=(\"Total population of each neighborhood\"), figsize=(10,10))"
   ]
  },
  {
   "cell_type": "markdown",
   "metadata": {},
   "source": [
    "Now that we have both the neighborhood with numbers of people with salary data and the top 10 neighborhood with the largest population data, we can calculate the percentage of each person in the neighborhood with salary."
   ]
  },
  {
   "cell_type": "code",
   "execution_count": 187,
   "metadata": {},
   "outputs": [
    {
     "data": {
      "text/html": [
       "<div>\n",
       "<style scoped>\n",
       "    .dataframe tbody tr th:only-of-type {\n",
       "        vertical-align: middle;\n",
       "    }\n",
       "\n",
       "    .dataframe tbody tr th {\n",
       "        vertical-align: top;\n",
       "    }\n",
       "\n",
       "    .dataframe thead th {\n",
       "        text-align: right;\n",
       "    }\n",
       "</style>\n",
       "<table border=\"1\" class=\"dataframe\">\n",
       "  <thead>\n",
       "    <tr style=\"text-align: right;\">\n",
       "      <th></th>\n",
       "      <th>Neighborhood</th>\n",
       "      <th>Number of people with salary</th>\n",
       "      <th>Total population</th>\n",
       "      <th>Percent</th>\n",
       "    </tr>\n",
       "  </thead>\n",
       "  <tbody>\n",
       "    <tr>\n",
       "      <th>21</th>\n",
       "      <td>Chateau</td>\n",
       "      <td>3.0</td>\n",
       "      <td>3.0</td>\n",
       "      <td>100.000000</td>\n",
       "    </tr>\n",
       "    <tr>\n",
       "      <th>57</th>\n",
       "      <td>North Shore</td>\n",
       "      <td>154.0</td>\n",
       "      <td>205.0</td>\n",
       "      <td>75.121951</td>\n",
       "    </tr>\n",
       "    <tr>\n",
       "      <th>80</th>\n",
       "      <td>Strip District</td>\n",
       "      <td>520.0</td>\n",
       "      <td>747.0</td>\n",
       "      <td>69.611780</td>\n",
       "    </tr>\n",
       "    <tr>\n",
       "      <th>71</th>\n",
       "      <td>South Shore</td>\n",
       "      <td>8.0</td>\n",
       "      <td>12.0</td>\n",
       "      <td>66.666667</td>\n",
       "    </tr>\n",
       "    <tr>\n",
       "      <th>25</th>\n",
       "      <td>East Allegheny</td>\n",
       "      <td>1302.0</td>\n",
       "      <td>2095.0</td>\n",
       "      <td>62.147971</td>\n",
       "    </tr>\n",
       "    <tr>\n",
       "      <th>0</th>\n",
       "      <td>Allegheny Center</td>\n",
       "      <td>870.0</td>\n",
       "      <td>1411.0</td>\n",
       "      <td>61.658398</td>\n",
       "    </tr>\n",
       "    <tr>\n",
       "      <th>33</th>\n",
       "      <td>Friendship</td>\n",
       "      <td>1074.0</td>\n",
       "      <td>1840.0</td>\n",
       "      <td>58.369565</td>\n",
       "    </tr>\n",
       "    <tr>\n",
       "      <th>64</th>\n",
       "      <td>Point Breeze North</td>\n",
       "      <td>996.0</td>\n",
       "      <td>1732.0</td>\n",
       "      <td>57.505774</td>\n",
       "    </tr>\n",
       "    <tr>\n",
       "      <th>68</th>\n",
       "      <td>Shadyside</td>\n",
       "      <td>7484.0</td>\n",
       "      <td>13562.0</td>\n",
       "      <td>55.183601</td>\n",
       "    </tr>\n",
       "    <tr>\n",
       "      <th>6</th>\n",
       "      <td>Bedford Dwellings</td>\n",
       "      <td>723.0</td>\n",
       "      <td>1349.0</td>\n",
       "      <td>53.595256</td>\n",
       "    </tr>\n",
       "  </tbody>\n",
       "</table>\n",
       "</div>"
      ],
      "text/plain": [
       "          Neighborhood  Number of people with salary  Total population  \\\n",
       "21             Chateau                           3.0               3.0   \n",
       "57         North Shore                         154.0             205.0   \n",
       "80      Strip District                         520.0             747.0   \n",
       "71         South Shore                           8.0              12.0   \n",
       "25      East Allegheny                        1302.0            2095.0   \n",
       "0     Allegheny Center                         870.0            1411.0   \n",
       "33          Friendship                        1074.0            1840.0   \n",
       "64  Point Breeze North                         996.0            1732.0   \n",
       "68           Shadyside                        7484.0           13562.0   \n",
       "6    Bedford Dwellings                         723.0            1349.0   \n",
       "\n",
       "       Percent  \n",
       "21  100.000000  \n",
       "57   75.121951  \n",
       "80   69.611780  \n",
       "71   66.666667  \n",
       "25   62.147971  \n",
       "0    61.658398  \n",
       "33   58.369565  \n",
       "64   57.505774  \n",
       "68   55.183601  \n",
       "6    53.595256  "
      ]
     },
     "execution_count": 187,
     "metadata": {},
     "output_type": "execute_result"
    }
   ],
   "source": [
    "#calculate the percentage of each person with salary in the neighborhood\n",
    "#create a new dataframe to store needed datas\n",
    "percentage = pd.DataFrame()\n",
    "#use the data from the salary data file and the data from the total population file\n",
    "#create new columns\n",
    "percentage[\"Neighborhood\"] = population[\"Neighborhood\"]\n",
    "percentage['Number of people with salary']= salary['Estimate; Total:']\n",
    "percentage['Total population']= population['Estimate; Total']\n",
    "\n",
    "#calculate the percentage by dividing the total population by the number of people with salary \n",
    "percentage['Percent']= (percentage['Number of people with salary']/percentage['Total population'])*100\n",
    "#show the neighborhood with the larget percent of each person with salary\n",
    "final1 = percentage.nlargest(10, 'Percent',keep='first')\n",
    "final1"
   ]
  },
  {
   "cell_type": "markdown",
   "metadata": {},
   "source": [
    "Top neighborhoods with the largest percentage:\n",
    "As you can see the top 10 neighborhoods with the highest percent of people with salaries are Chateau, North Shore, Strip District, South Shore, East Alleghney, Allegheny Center, Friendship, Point Breeze North, Shadyside, and Bedford Dwellings."
   ]
  },
  {
   "cell_type": "markdown",
   "metadata": {},
   "source": [
    "## Traffic Data\n"
   ]
  },
  {
   "cell_type": "code",
   "execution_count": 12,
   "metadata": {},
   "outputs": [],
   "source": [
    "#import panda\n",
    "import pandas as pd\n",
    "import numpy as np\n",
    "%matplotlib inline"
   ]
  },
  {
   "cell_type": "code",
   "execution_count": 13,
   "metadata": {},
   "outputs": [
    {
     "data": {
      "text/html": [
       "<div>\n",
       "<style scoped>\n",
       "    .dataframe tbody tr th:only-of-type {\n",
       "        vertical-align: middle;\n",
       "    }\n",
       "\n",
       "    .dataframe tbody tr th {\n",
       "        vertical-align: top;\n",
       "    }\n",
       "\n",
       "    .dataframe thead th {\n",
       "        text-align: right;\n",
       "    }\n",
       "</style>\n",
       "<table border=\"1\" class=\"dataframe\">\n",
       "  <thead>\n",
       "    <tr style=\"text-align: right;\">\n",
       "      <th></th>\n",
       "      <th>id</th>\n",
       "      <th>device_id</th>\n",
       "      <th>record_oid</th>\n",
       "      <th>count_start_date</th>\n",
       "      <th>count_end_date</th>\n",
       "      <th>average_daily_car_traffic</th>\n",
       "      <th>average_daily_bike_traffic</th>\n",
       "      <th>counter_number</th>\n",
       "      <th>counter_type</th>\n",
       "      <th>speed_limit</th>\n",
       "      <th>...</th>\n",
       "      <th>longitude</th>\n",
       "      <th>latitude</th>\n",
       "      <th>neighborhood</th>\n",
       "      <th>council_district</th>\n",
       "      <th>ward</th>\n",
       "      <th>tract</th>\n",
       "      <th>public_works_division</th>\n",
       "      <th>pli_division</th>\n",
       "      <th>police_zone</th>\n",
       "      <th>fire_zone</th>\n",
       "    </tr>\n",
       "  </thead>\n",
       "  <tbody>\n",
       "    <tr>\n",
       "      <th>0</th>\n",
       "      <td>1011743669</td>\n",
       "      <td>85</td>\n",
       "      <td>1.445865e+09</td>\n",
       "      <td>2019-04-18</td>\n",
       "      <td>2019-04-26</td>\n",
       "      <td>4949.0</td>\n",
       "      <td>NaN</td>\n",
       "      <td>6</td>\n",
       "      <td>StatTrak</td>\n",
       "      <td>25.0</td>\n",
       "      <td>...</td>\n",
       "      <td>-79.967772</td>\n",
       "      <td>40.455733</td>\n",
       "      <td>Polish Hill</td>\n",
       "      <td>7.0</td>\n",
       "      <td>6.0</td>\n",
       "      <td>42003060500</td>\n",
       "      <td>6.0</td>\n",
       "      <td>6.0</td>\n",
       "      <td>2.0</td>\n",
       "      <td>2-6</td>\n",
       "    </tr>\n",
       "    <tr>\n",
       "      <th>1</th>\n",
       "      <td>1026101993</td>\n",
       "      <td>140</td>\n",
       "      <td>1.121444e+09</td>\n",
       "      <td>2019-01-24</td>\n",
       "      <td>NaN</td>\n",
       "      <td>NaN</td>\n",
       "      <td>NaN</td>\n",
       "      <td>NaN</td>\n",
       "      <td>Intersection Study</td>\n",
       "      <td>NaN</td>\n",
       "      <td>...</td>\n",
       "      <td>-79.952249</td>\n",
       "      <td>40.466157</td>\n",
       "      <td>Central Lawrenceville</td>\n",
       "      <td>7.0</td>\n",
       "      <td>9.0</td>\n",
       "      <td>42003090200</td>\n",
       "      <td>2.0</td>\n",
       "      <td>9.0</td>\n",
       "      <td>2.0</td>\n",
       "      <td>3-6</td>\n",
       "    </tr>\n",
       "    <tr>\n",
       "      <th>2</th>\n",
       "      <td>1032382575</td>\n",
       "      <td>11</td>\n",
       "      <td>1.539893e+09</td>\n",
       "      <td>2018-08-28</td>\n",
       "      <td>2018-09-04</td>\n",
       "      <td>NaN</td>\n",
       "      <td>NaN</td>\n",
       "      <td>NaN</td>\n",
       "      <td>NaN</td>\n",
       "      <td>35.0</td>\n",
       "      <td>...</td>\n",
       "      <td>-80.076469</td>\n",
       "      <td>40.460717</td>\n",
       "      <td>Windgap</td>\n",
       "      <td>2.0</td>\n",
       "      <td>28.0</td>\n",
       "      <td>42003563000</td>\n",
       "      <td>5.0</td>\n",
       "      <td>28.0</td>\n",
       "      <td>6.0</td>\n",
       "      <td>1-16</td>\n",
       "    </tr>\n",
       "    <tr>\n",
       "      <th>3</th>\n",
       "      <td>103627606</td>\n",
       "      <td>9</td>\n",
       "      <td>7.341951e+08</td>\n",
       "      <td>2018-07-17</td>\n",
       "      <td>2018-08-01</td>\n",
       "      <td>2741.0</td>\n",
       "      <td>NaN</td>\n",
       "      <td>NaN</td>\n",
       "      <td>StatTrak</td>\n",
       "      <td>25.0</td>\n",
       "      <td>...</td>\n",
       "      <td>-79.914335</td>\n",
       "      <td>40.437379</td>\n",
       "      <td>Squirrel Hill South</td>\n",
       "      <td>5.0</td>\n",
       "      <td>14.0</td>\n",
       "      <td>42003140800</td>\n",
       "      <td>3.0</td>\n",
       "      <td>14.0</td>\n",
       "      <td>4.0</td>\n",
       "      <td>2-18</td>\n",
       "    </tr>\n",
       "    <tr>\n",
       "      <th>4</th>\n",
       "      <td>1039546167</td>\n",
       "      <td>144</td>\n",
       "      <td>NaN</td>\n",
       "      <td>NaN</td>\n",
       "      <td>NaN</td>\n",
       "      <td>NaN</td>\n",
       "      <td>NaN</td>\n",
       "      <td>NaN</td>\n",
       "      <td>NaN</td>\n",
       "      <td>NaN</td>\n",
       "      <td>...</td>\n",
       "      <td>-80.019211</td>\n",
       "      <td>40.490794</td>\n",
       "      <td>Perry North</td>\n",
       "      <td>1.0</td>\n",
       "      <td>26.0</td>\n",
       "      <td>42003260200</td>\n",
       "      <td>1.0</td>\n",
       "      <td>26.0</td>\n",
       "      <td>1.0</td>\n",
       "      <td>1-15</td>\n",
       "    </tr>\n",
       "    <tr>\n",
       "      <th>5</th>\n",
       "      <td>1041392556</td>\n",
       "      <td>76</td>\n",
       "      <td>5.713472e+08</td>\n",
       "      <td>2019-03-22</td>\n",
       "      <td>2019-03-29</td>\n",
       "      <td>1046.0</td>\n",
       "      <td>NaN</td>\n",
       "      <td>2</td>\n",
       "      <td>StatTrak</td>\n",
       "      <td>25.0</td>\n",
       "      <td>...</td>\n",
       "      <td>-80.014234</td>\n",
       "      <td>40.458106</td>\n",
       "      <td>Central Northside</td>\n",
       "      <td>6.0</td>\n",
       "      <td>25.0</td>\n",
       "      <td>42003250300</td>\n",
       "      <td>1.0</td>\n",
       "      <td>25.0</td>\n",
       "      <td>1.0</td>\n",
       "      <td>1-21</td>\n",
       "    </tr>\n",
       "    <tr>\n",
       "      <th>6</th>\n",
       "      <td>1047444948</td>\n",
       "      <td>17</td>\n",
       "      <td>1.366891e+09</td>\n",
       "      <td>2018-10-18</td>\n",
       "      <td>NaN</td>\n",
       "      <td>NaN</td>\n",
       "      <td>NaN</td>\n",
       "      <td>NaN</td>\n",
       "      <td>NaN</td>\n",
       "      <td>25.0</td>\n",
       "      <td>...</td>\n",
       "      <td>-79.942273</td>\n",
       "      <td>40.446282</td>\n",
       "      <td>Squirrel Hill North</td>\n",
       "      <td>8.0</td>\n",
       "      <td>14.0</td>\n",
       "      <td>42003140100</td>\n",
       "      <td>3.0</td>\n",
       "      <td>14.0</td>\n",
       "      <td>4.0</td>\n",
       "      <td>2-26</td>\n",
       "    </tr>\n",
       "    <tr>\n",
       "      <th>7</th>\n",
       "      <td>1053645660</td>\n",
       "      <td>87</td>\n",
       "      <td>8.042089e+08</td>\n",
       "      <td>2019-04-18</td>\n",
       "      <td>2019-04-26</td>\n",
       "      <td>3015.0</td>\n",
       "      <td>NaN</td>\n",
       "      <td>4</td>\n",
       "      <td>StatTrak</td>\n",
       "      <td>25.0</td>\n",
       "      <td>...</td>\n",
       "      <td>-79.964592</td>\n",
       "      <td>40.457119</td>\n",
       "      <td>Polish Hill</td>\n",
       "      <td>7.0</td>\n",
       "      <td>6.0</td>\n",
       "      <td>42003060500</td>\n",
       "      <td>6.0</td>\n",
       "      <td>6.0</td>\n",
       "      <td>2.0</td>\n",
       "      <td>2-6</td>\n",
       "    </tr>\n",
       "    <tr>\n",
       "      <th>8</th>\n",
       "      <td>1073440033</td>\n",
       "      <td>156</td>\n",
       "      <td>1.736165e+09</td>\n",
       "      <td>2017-07-28</td>\n",
       "      <td>NaN</td>\n",
       "      <td>NaN</td>\n",
       "      <td>NaN</td>\n",
       "      <td>NaN</td>\n",
       "      <td>Intersection Study</td>\n",
       "      <td>NaN</td>\n",
       "      <td>...</td>\n",
       "      <td>-79.960385</td>\n",
       "      <td>40.438983</td>\n",
       "      <td>Central Oakland</td>\n",
       "      <td>3.0</td>\n",
       "      <td>4.0</td>\n",
       "      <td>42003040500</td>\n",
       "      <td>3.0</td>\n",
       "      <td>4.0</td>\n",
       "      <td>4.0</td>\n",
       "      <td>2-14</td>\n",
       "    </tr>\n",
       "    <tr>\n",
       "      <th>9</th>\n",
       "      <td>1092885547</td>\n",
       "      <td>143</td>\n",
       "      <td>NaN</td>\n",
       "      <td>NaN</td>\n",
       "      <td>NaN</td>\n",
       "      <td>NaN</td>\n",
       "      <td>NaN</td>\n",
       "      <td>NaN</td>\n",
       "      <td>NaN</td>\n",
       "      <td>NaN</td>\n",
       "      <td>...</td>\n",
       "      <td>-79.920958</td>\n",
       "      <td>40.467294</td>\n",
       "      <td>East Liberty</td>\n",
       "      <td>9.0</td>\n",
       "      <td>11.0</td>\n",
       "      <td>42003111300</td>\n",
       "      <td>2.0</td>\n",
       "      <td>11.0</td>\n",
       "      <td>5.0</td>\n",
       "      <td>3-8</td>\n",
       "    </tr>\n",
       "  </tbody>\n",
       "</table>\n",
       "<p>10 rows × 25 columns</p>\n",
       "</div>"
      ],
      "text/plain": [
       "           id  device_id    record_oid count_start_date count_end_date  \\\n",
       "0  1011743669         85  1.445865e+09       2019-04-18     2019-04-26   \n",
       "1  1026101993        140  1.121444e+09       2019-01-24            NaN   \n",
       "2  1032382575         11  1.539893e+09       2018-08-28     2018-09-04   \n",
       "3   103627606          9  7.341951e+08       2018-07-17     2018-08-01   \n",
       "4  1039546167        144           NaN              NaN            NaN   \n",
       "5  1041392556         76  5.713472e+08       2019-03-22     2019-03-29   \n",
       "6  1047444948         17  1.366891e+09       2018-10-18            NaN   \n",
       "7  1053645660         87  8.042089e+08       2019-04-18     2019-04-26   \n",
       "8  1073440033        156  1.736165e+09       2017-07-28            NaN   \n",
       "9  1092885547        143           NaN              NaN            NaN   \n",
       "\n",
       "   average_daily_car_traffic  average_daily_bike_traffic counter_number  \\\n",
       "0                     4949.0                         NaN              6   \n",
       "1                        NaN                         NaN            NaN   \n",
       "2                        NaN                         NaN            NaN   \n",
       "3                     2741.0                         NaN            NaN   \n",
       "4                        NaN                         NaN            NaN   \n",
       "5                     1046.0                         NaN              2   \n",
       "6                        NaN                         NaN            NaN   \n",
       "7                     3015.0                         NaN              4   \n",
       "8                        NaN                         NaN            NaN   \n",
       "9                        NaN                         NaN            NaN   \n",
       "\n",
       "         counter_type  speed_limit  ...  longitude   latitude  \\\n",
       "0            StatTrak         25.0  ... -79.967772  40.455733   \n",
       "1  Intersection Study          NaN  ... -79.952249  40.466157   \n",
       "2                 NaN         35.0  ... -80.076469  40.460717   \n",
       "3            StatTrak         25.0  ... -79.914335  40.437379   \n",
       "4                 NaN          NaN  ... -80.019211  40.490794   \n",
       "5            StatTrak         25.0  ... -80.014234  40.458106   \n",
       "6                 NaN         25.0  ... -79.942273  40.446282   \n",
       "7            StatTrak         25.0  ... -79.964592  40.457119   \n",
       "8  Intersection Study          NaN  ... -79.960385  40.438983   \n",
       "9                 NaN          NaN  ... -79.920958  40.467294   \n",
       "\n",
       "            neighborhood  council_district  ward        tract  \\\n",
       "0            Polish Hill               7.0   6.0  42003060500   \n",
       "1  Central Lawrenceville               7.0   9.0  42003090200   \n",
       "2                Windgap               2.0  28.0  42003563000   \n",
       "3    Squirrel Hill South               5.0  14.0  42003140800   \n",
       "4            Perry North               1.0  26.0  42003260200   \n",
       "5      Central Northside               6.0  25.0  42003250300   \n",
       "6    Squirrel Hill North               8.0  14.0  42003140100   \n",
       "7            Polish Hill               7.0   6.0  42003060500   \n",
       "8        Central Oakland               3.0   4.0  42003040500   \n",
       "9           East Liberty               9.0  11.0  42003111300   \n",
       "\n",
       "   public_works_division pli_division  police_zone  fire_zone  \n",
       "0                    6.0          6.0          2.0        2-6  \n",
       "1                    2.0          9.0          2.0        3-6  \n",
       "2                    5.0         28.0          6.0       1-16  \n",
       "3                    3.0         14.0          4.0       2-18  \n",
       "4                    1.0         26.0          1.0       1-15  \n",
       "5                    1.0         25.0          1.0       1-21  \n",
       "6                    3.0         14.0          4.0       2-26  \n",
       "7                    6.0          6.0          2.0        2-6  \n",
       "8                    3.0          4.0          4.0       2-14  \n",
       "9                    2.0         11.0          5.0        3-8  \n",
       "\n",
       "[10 rows x 25 columns]"
      ]
     },
     "execution_count": 13,
     "metadata": {},
     "output_type": "execute_result"
    }
   ],
   "source": [
    "#open the average daily car traffic data file\n",
    "cartraffic = pd.read_csv(\"car_traffic.csv\")\n",
    "#show the first 10 datas\n",
    "cartraffic.head(10)\n"
   ]
  },
  {
   "cell_type": "code",
   "execution_count": 14,
   "metadata": {},
   "outputs": [
    {
     "data": {
      "text/html": [
       "<div>\n",
       "<style scoped>\n",
       "    .dataframe tbody tr th:only-of-type {\n",
       "        vertical-align: middle;\n",
       "    }\n",
       "\n",
       "    .dataframe tbody tr th {\n",
       "        vertical-align: top;\n",
       "    }\n",
       "\n",
       "    .dataframe thead th {\n",
       "        text-align: right;\n",
       "    }\n",
       "</style>\n",
       "<table border=\"1\" class=\"dataframe\">\n",
       "  <thead>\n",
       "    <tr style=\"text-align: right;\">\n",
       "      <th></th>\n",
       "      <th>average_daily_car_traffic</th>\n",
       "      <th>neighborhood_name</th>\n",
       "    </tr>\n",
       "  </thead>\n",
       "  <tbody>\n",
       "    <tr>\n",
       "      <th>0</th>\n",
       "      <td>4949.0</td>\n",
       "      <td>Polish Hill</td>\n",
       "    </tr>\n",
       "    <tr>\n",
       "      <th>1</th>\n",
       "      <td>NaN</td>\n",
       "      <td>Central Lawrenceville</td>\n",
       "    </tr>\n",
       "    <tr>\n",
       "      <th>2</th>\n",
       "      <td>NaN</td>\n",
       "      <td>Windgap</td>\n",
       "    </tr>\n",
       "    <tr>\n",
       "      <th>3</th>\n",
       "      <td>2741.0</td>\n",
       "      <td>Squirrel Hill South</td>\n",
       "    </tr>\n",
       "    <tr>\n",
       "      <th>4</th>\n",
       "      <td>NaN</td>\n",
       "      <td>Perry North</td>\n",
       "    </tr>\n",
       "    <tr>\n",
       "      <th>5</th>\n",
       "      <td>1046.0</td>\n",
       "      <td>Central Northside</td>\n",
       "    </tr>\n",
       "    <tr>\n",
       "      <th>6</th>\n",
       "      <td>NaN</td>\n",
       "      <td>Squirrel Hill North</td>\n",
       "    </tr>\n",
       "    <tr>\n",
       "      <th>7</th>\n",
       "      <td>3015.0</td>\n",
       "      <td>Polish Hill</td>\n",
       "    </tr>\n",
       "    <tr>\n",
       "      <th>8</th>\n",
       "      <td>NaN</td>\n",
       "      <td>Central Oakland</td>\n",
       "    </tr>\n",
       "    <tr>\n",
       "      <th>9</th>\n",
       "      <td>NaN</td>\n",
       "      <td>East Liberty</td>\n",
       "    </tr>\n",
       "  </tbody>\n",
       "</table>\n",
       "</div>"
      ],
      "text/plain": [
       "   average_daily_car_traffic      neighborhood_name\n",
       "0                     4949.0            Polish Hill\n",
       "1                        NaN  Central Lawrenceville\n",
       "2                        NaN                Windgap\n",
       "3                     2741.0    Squirrel Hill South\n",
       "4                        NaN            Perry North\n",
       "5                     1046.0      Central Northside\n",
       "6                        NaN    Squirrel Hill North\n",
       "7                     3015.0            Polish Hill\n",
       "8                        NaN        Central Oakland\n",
       "9                        NaN           East Liberty"
      ]
     },
     "execution_count": 14,
     "metadata": {},
     "output_type": "execute_result"
    }
   ],
   "source": [
    "daily_car_traffic = pd.DataFrame()\n",
    "daily_car_traffic['average_daily_car_traffic'] = cartraffic['average_daily_car_traffic']\n",
    "daily_car_traffic['neighborhood_name'] = cartraffic['neighborhood']\n",
    "daily_car_traffic.head(10)"
   ]
  },
  {
   "cell_type": "code",
   "execution_count": 102,
   "metadata": {},
   "outputs": [
    {
     "data": {
      "text/html": [
       "<div>\n",
       "<style scoped>\n",
       "    .dataframe tbody tr th:only-of-type {\n",
       "        vertical-align: middle;\n",
       "    }\n",
       "\n",
       "    .dataframe tbody tr th {\n",
       "        vertical-align: top;\n",
       "    }\n",
       "\n",
       "    .dataframe thead th {\n",
       "        text-align: right;\n",
       "    }\n",
       "</style>\n",
       "<table border=\"1\" class=\"dataframe\">\n",
       "  <thead>\n",
       "    <tr style=\"text-align: right;\">\n",
       "      <th></th>\n",
       "      <th>average_daily_car_traffic</th>\n",
       "      <th>neighborhood_name</th>\n",
       "    </tr>\n",
       "  </thead>\n",
       "  <tbody>\n",
       "    <tr>\n",
       "      <th>182</th>\n",
       "      <td>23.0</td>\n",
       "      <td>Central Northside</td>\n",
       "    </tr>\n",
       "    <tr>\n",
       "      <th>251</th>\n",
       "      <td>58.0</td>\n",
       "      <td>East Liberty</td>\n",
       "    </tr>\n",
       "    <tr>\n",
       "      <th>307</th>\n",
       "      <td>63.0</td>\n",
       "      <td>Spring Hill-City View</td>\n",
       "    </tr>\n",
       "    <tr>\n",
       "      <th>247</th>\n",
       "      <td>77.0</td>\n",
       "      <td>Bloomfield</td>\n",
       "    </tr>\n",
       "    <tr>\n",
       "      <th>244</th>\n",
       "      <td>79.0</td>\n",
       "      <td>Bloomfield</td>\n",
       "    </tr>\n",
       "    <tr>\n",
       "      <th>258</th>\n",
       "      <td>79.0</td>\n",
       "      <td>Highland Park</td>\n",
       "    </tr>\n",
       "    <tr>\n",
       "      <th>321</th>\n",
       "      <td>109.0</td>\n",
       "      <td>Marshall-Shadeland</td>\n",
       "    </tr>\n",
       "    <tr>\n",
       "      <th>310</th>\n",
       "      <td>115.0</td>\n",
       "      <td>South Side Flats</td>\n",
       "    </tr>\n",
       "    <tr>\n",
       "      <th>318</th>\n",
       "      <td>126.0</td>\n",
       "      <td>Lincoln Place</td>\n",
       "    </tr>\n",
       "    <tr>\n",
       "      <th>158</th>\n",
       "      <td>131.0</td>\n",
       "      <td>Windgap</td>\n",
       "    </tr>\n",
       "  </tbody>\n",
       "</table>\n",
       "</div>"
      ],
      "text/plain": [
       "     average_daily_car_traffic      neighborhood_name\n",
       "182                       23.0      Central Northside\n",
       "251                       58.0           East Liberty\n",
       "307                       63.0  Spring Hill-City View\n",
       "247                       77.0             Bloomfield\n",
       "244                       79.0             Bloomfield\n",
       "258                       79.0          Highland Park\n",
       "321                      109.0     Marshall-Shadeland\n",
       "310                      115.0       South Side Flats\n",
       "318                      126.0          Lincoln Place\n",
       "158                      131.0                Windgap"
      ]
     },
     "execution_count": 102,
     "metadata": {},
     "output_type": "execute_result"
    }
   ],
   "source": [
    "#show the neighborhood with smallest average car traffic number\n",
    "traffic = daily_car_traffic.nsmallest(10, 'average_daily_car_traffic', keep= 'first')\n",
    "traffic"
   ]
  },
  {
   "cell_type": "markdown",
   "metadata": {},
   "source": [
    "## Visualization"
   ]
  },
  {
   "cell_type": "code",
   "execution_count": 16,
   "metadata": {},
   "outputs": [
    {
     "data": {
      "text/plain": [
       "<matplotlib.axes._subplots.AxesSubplot at 0x7fa4a36c2b20>"
      ]
     },
     "execution_count": 16,
     "metadata": {},
     "output_type": "execute_result"
    },
    {
     "data": {
      "image/png": "[encoded data removed]",
      "text/plain": [
       "<Figure size 720x720 with 1 Axes>"
      ]
     },
     "metadata": {
      "needs_background": "light"
     },
     "output_type": "display_data"
    }
   ],
   "source": [
    "daily_car_traffic1 = daily_car_traffic.nsmallest(10, 'average_daily_car_traffic', keep= 'first')\n",
    "#make the index to neighborhood names\n",
    "daily_car_traffic1 = daily_car_traffic1.set_index('neighborhood_name')\n",
    "# create a bar visualization\n",
    "daily_car_traffic1['average_daily_car_traffic'].plot(kind=\"bar\", title=(\"The ten smallest average daily car traffic number neighborhood \"), figsize=(10,10))"
   ]
  },
  {
   "cell_type": "markdown",
   "metadata": {},
   "source": [
    "Conclusion:\n",
    "The ten neighborhood that has the smallest average car traffic number is Central Northside, East Liberty, Spring Hill-City View, Bloomfield(two data), Highland Park, Marshall-Shadeland, South Side Flats, Lincoln Place, and Windgap. These neighborhood are the top ten smallest."
   ]
  },
  {
   "cell_type": "markdown",
   "metadata": {},
   "source": [
    "## Conclusion"
   ]
  },
  {
   "cell_type": "markdown",
   "metadata": {},
   "source": [
    "To find the best neighborhood through the three submetrics, we decided to look for the neighborhood that overlaps. "
   ]
  },
  {
   "cell_type": "code",
   "execution_count": 183,
   "metadata": {},
   "outputs": [],
   "source": [
    "mylist = [\"Mt. Oliver Neighborhood\",\"Troy Hill-Herrs Island\",\"Mt. Oliver Boro\", \"Central Northside\", \"Ridgemont\", \"Regent Square\", \"Chartiers City\", \"Swisshelm Park\", \"New Homestead\", \"St. Clair\", \"East Carnegie\", \"Outside County\", \"Outside State\", \"Summer Hill\", \"Oakwood\", \"Golden Triangle/Civic Arena\",\n",
    "            \"Hays\", \"Windgap\", \"Fairywood\", \"Mount Oliver\", \"Bloomfield\", \"Squill Hill North\"]\n",
    "    "
   ]
  },
  {
   "cell_type": "code",
   "execution_count": 184,
   "metadata": {},
   "outputs": [
    {
     "data": {
      "text/plain": [
       "'Central Northside'"
      ]
     },
     "execution_count": 184,
     "metadata": {},
     "output_type": "execute_result"
    }
   ],
   "source": [
    "finaldict = []\n",
    "count3 = 0\n",
    "while count3<20:\n",
    "        for item1 in salary['Neighborhood']:\n",
    "            for item1 in cartraffic['neighborhood']:\n",
    "                if item1 == mylist[count3]:\n",
    "                    finaldict.append(item1)\n",
    "        count3+=1\n",
    "finaldict[1]"
   ]
  },
  {
   "cell_type": "markdown",
   "metadata": {},
   "source": [
    "The neighborhood that overlapped the most in our findings was Central Northside and was consistently ranked at the top using our list. Our data priority is police over salary and salary over traffic."
   ]
  },
  {
   "cell_type": "markdown",
   "metadata": {},
   "source": [
    "## The best neighborhood in Pittsburgh is Central Northside."
   ]
  },
  {
   "cell_type": "markdown",
   "metadata": {},
   "source": [
    "## Reflections"
   ]
  },
  {
   "cell_type": "markdown",
   "metadata": {},
   "source": [
    "Jingtao's reflection: Base on my data Central Northside is in my top 20, and it also match up in my other two groupmate's data. So, Central Northside base on our data are clearly the best neighborhood."
   ]
  },
  {
   "cell_type": "markdown",
   "metadata": {},
   "source": [
    "Weini's reflection:Our conclusion shows that the central north side is the best neighborhood. I haven’t been to the Central Northside, so I don’t really know how it was. Therefore, I will think that it is the best neighborhood because of the conclusion we reached, and looking at the pictures, I think it's a pretty good place to live."
   ]
  },
  {
   "cell_type": "markdown",
   "metadata": {},
   "source": [
    "Ethan's reflection: Based on my data and others' data, Central Northside is the best neighborhood, because it is in my top 20 list, and so do others. Compare to other neighborhood, Central Norhside is the best neighborhood."
   ]
  },
  {
   "cell_type": "code",
   "execution_count": null,
   "metadata": {},
   "outputs": [],
   "source": []
  }
 ],
 "metadata": {
  "kernelspec": {
   "display_name": "Python 3",
   "language": "python",
   "name": "python3"
  },
  "language_info": {
   "codemirror_mode": {
    "name": "ipython",
    "version": 3
   },
   "file_extension": ".py",
   "mimetype": "text/x-python",
   "name": "python",
   "nbconvert_exporter": "python",
   "pygments_lexer": "ipython3",
   "version": "3.8.3"
  }
 },
 "nbformat": 4,
 "nbformat_minor": 4
}

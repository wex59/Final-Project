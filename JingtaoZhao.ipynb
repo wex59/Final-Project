{
 "cells": [
  {
   "cell_type": "code",
   "execution_count": 30,
   "metadata": {},
   "outputs": [],
   "source": [
    "import pandas as pd\n",
    "police = pd.read_csv(\"PittsburghPoliceArrestData.csv\", usecols = ['INCIDENTNEIGHBORHOOD'])\n",
    "police_dict = {}\n",
    "i = 0\n",
    "while i < 58322:\n",
    "    item = police.loc[i,'INCIDENTNEIGHBORHOOD']\n",
    "    if item in police_dict:\n",
    "        police_dict[item]+=1\n",
    "    else:\n",
    "        police_dict[item]=1\n",
    "    i += 1\n",
    "final = pd.Series(police_dict, name = \"place\")"
   ]
  },
  {
   "cell_type": "code",
   "execution_count": 31,
   "metadata": {},
   "outputs": [],
   "source": [
    "final = final.sort_values()[:]"
   ]
  },
  {
   "cell_type": "code",
   "execution_count": 32,
   "metadata": {},
   "outputs": [
    {
     "data": {
      "text/plain": [
       "Mt. Oliver Neighborhood         2\n",
       "Troy Hill-Herrs Island          6\n",
       "Mt. Oliver Boro                18\n",
       "Central Northside              23\n",
       "Ridgemont                      32\n",
       "                             ... \n",
       "East Allegheny               1893\n",
       "Carrick                      2102\n",
       "NaN                          2203\n",
       "South Side Flats             3053\n",
       "Central Business District    3570\n",
       "Name: place, Length: 99, dtype: int64"
      ]
     },
     "execution_count": 32,
     "metadata": {},
     "output_type": "execute_result"
    }
   ],
   "source": [
    "final.head(100)"
   ]
  },
  {
   "cell_type": "code",
   "execution_count": 28,
   "metadata": {},
   "outputs": [
    {
     "data": {
      "text/plain": [
       "<matplotlib.axes._subplots.AxesSubplot at 0x7f2b1fbd58e0>"
      ]
     },
     "execution_count": 28,
     "metadata": {},
     "output_type": "execute_result"
    },
    {
     "data": {
      "image/png": "[encoded data removed]",
      "text/plain": [
       "<Figure size 432x288 with 1 Axes>"
      ]
     },
     "metadata": {
      "needs_background": "light"
     },
     "output_type": "display_data"
    }
   ],
   "source": [
    "final.sort_values(ascending=True)[:10].plot.bar()\n"
   ]
  },
  {
   "cell_type": "code",
   "execution_count": null,
   "metadata": {},
   "outputs": [],
   "source": [
    "mylist = []\n",
    "count2 = 0\n",
    "while count2 < 20:\n",
    "    mylist.append(police.loc[count2,'INCIDENTNEIGHBORHOOD'])\n",
    "    count2 += 1\n"
   ]
  }
 ],
 "metadata": {
  "kernelspec": {
   "display_name": "Python 3",
   "language": "python",
   "name": "python3"
  },
  "language_info": {
   "codemirror_mode": {
    "name": "ipython",
    "version": 3
   },
   "file_extension": ".py",
   "mimetype": "text/x-python",
   "name": "python",
   "nbconvert_exporter": "python",
   "pygments_lexer": "ipython3",
   "version": "3.8.3"
  }
 },
 "nbformat": 4,
 "nbformat_minor": 4
}
